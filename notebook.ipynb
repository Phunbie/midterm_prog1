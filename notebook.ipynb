{
  "nbformat": 4,
  "nbformat_minor": 0,
  "metadata": {
    "colab": {
      "name": "MLzoomcamp_midterm_project.ipynb",
      "provenance": [],
      "collapsed_sections": []
    },
    "kernelspec": {
      "display_name": "Python 3",
      "name": "python3"
    },
    "language_info": {
      "name": "python"
    }
  },
  "cells": [
    {
      "cell_type": "markdown",
      "metadata": {
        "id": "DRK0r1B_RNWH"
      },
      "source": [
        "#Customer propensity to purchase\n",
        "\n",
        "\n",
        "##Context\n",
        "\n",
        "\n",
        "You get many visitors to your website every day, but you know only a small percentage of them are likely to buy from you, while most will perhaps not even return.Propensity modeling allows you to allocate your resources more wisely, resulting in greater efficiencies, while achieving better results. To give an example, think of this: instead of sending an email advertisement where there’s a 0%-100% chance of a user clicking it, with propensity modeling, you can target users with a 50%+ chance of clicking it. Fewer emails, more conversions! Right now you may be spending money to re-market to everyone, but perhaps we could use machine learning to identify the most valuable prospects. Having this important information can also help the marketing department know the kind of email to sent to a particular visitor.\n",
        "\n",
        "##Content\n",
        "\n",
        "\n",
        "This data set represents a day's worth of visit to a website. Each row represents a unique customer, identified by their unique UserID. The columns represent feature of the users visit (such as the device they were using) and things the user did on the website in that day. These features will be different for every website, but in this data a few of the features we consider are:\n",
        "\n",
        "**Basketadddetail**: Did the customer add a product to their shopping basket from the product detail page?\n",
        "\n",
        "**Sign_in**: Did the customer sign in to the website?\n",
        "\n",
        "**saw_homepage**: Did the customer visit the website's homepage?\n",
        "\n",
        "**Returning_user**: Is this visitor new, or returning?\n",
        "\n",
        "**basket_icon_click**\n",
        "Did the visitor click on the shopping basket icon?\n",
        "\n",
        "**basket_add_list**\n",
        "Did the visitor add a product to their shopping cart on the 'list' page?\n",
        "\n",
        "**basket_add_detail**\n",
        "Did the visitor add a product to their shopping cart on the 'detail' page?\n",
        "\n",
        "**sort_by**\n",
        "Did the visitor sort products on a page?\n",
        "\n",
        "**image_picker**\n",
        "Did the visitor use the image picker?\n",
        "\n",
        "**account_page_click**\n",
        "Did the visitor visit their account page?\n",
        "\n",
        "**promo_banner_click**\n",
        "Did the visitor click on a promo banner?\n",
        "\n",
        "**detail_wishlist_add**\n",
        "Did the visitor add a product to their wishlist from the 'detail' page?\n",
        "\n",
        "**list_size_dropdown**\n",
        "Did the visitor interact with a product dropdown?\n",
        "\n",
        "**closed_minibasket_click**\n",
        "Did the visitor close their mini shopping basket?\n",
        "\n",
        "**checked_delivery_detail**\n",
        "Did the visitor view the delivery FAQ area on a product page?\n",
        "\n",
        "**checked_returns_detail**\n",
        "Did the visitor check the returns FAQ area on a product page?\n",
        "\n",
        "**sign_in**\n",
        "Did the visitor sign in to the website?\n",
        "\n",
        "**saw_checkout**\n",
        "Did the visitor view the checkout?\n",
        "\n",
        "**saw_sizecharts**\n",
        "Did the visitor view a product size chart?\n",
        "\n",
        "**saw_delivery**\n",
        "Did the visitor view the delivery FAQ page?\n",
        "\n",
        "**saw_account_upgrade**\n",
        "Did the visitor view the account upgrade page?\n",
        "\n",
        "**saw_homepage**\n",
        "Did the visitor view the website homepage?\n",
        "\n",
        "**device_mobile**\n",
        "Was the visitor on a mobile device?\n",
        "\n",
        "**device_desktop**\n",
        "Was the visitor on a desktop device?\n",
        "\n",
        "**device_tablet**\n",
        "Was the visitor on a table device?\n",
        "\n",
        "**returning_user**\n",
        "Was the visitor new or returning?\n",
        "\n",
        "**loc_uk**\n",
        "Was the visitor located in the UK, based on their IP address?\n",
        "\n",
        "**ordered**\n",
        "Did the customer place an order?\n",
        "\n",
        "In this data set we also have a feature showing whether the customer placed an order (ordered), which is what we predict on(1 means the customer placed an order while 0 means the customer did not)."
      ]
    },
    {
      "cell_type": "markdown",
      "metadata": {
        "id": "yJVRC7-gLCzu"
      },
      "source": [
        "#Data upload and preview"
      ]
    },
    {
      "cell_type": "code",
      "metadata": {
        "id": "jh5ARYViRAGD"
      },
      "source": [
        "import pandas as pd\n"
      ],
      "execution_count": 17,
      "outputs": []
    },
    {
      "cell_type": "code",
      "metadata": {
        "id": "iGiSZl2jeE3r"
      },
      "source": [
        "url = '/content/drive/MyDrive/training_sample.csv'"
      ],
      "execution_count": 18,
      "outputs": []
    },
    {
      "cell_type": "code",
      "metadata": {
        "colab": {
          "base_uri": "https://localhost:8080/",
          "height": 313
        },
        "id": "sExelsbld6gm",
        "outputId": "4c8793b1-f7be-470d-c3bd-924881f2794a"
      },
      "source": [
        "df = pd.read_csv(url)\n",
        "df.head()"
      ],
      "execution_count": 19,
      "outputs": [
        {
          "output_type": "execute_result",
          "data": {
            "text/html": [
              "<div>\n",
              "<style scoped>\n",
              "    .dataframe tbody tr th:only-of-type {\n",
              "        vertical-align: middle;\n",
              "    }\n",
              "\n",
              "    .dataframe tbody tr th {\n",
              "        vertical-align: top;\n",
              "    }\n",
              "\n",
              "    .dataframe thead th {\n",
              "        text-align: right;\n",
              "    }\n",
              "</style>\n",
              "<table border=\"1\" class=\"dataframe\">\n",
              "  <thead>\n",
              "    <tr style=\"text-align: right;\">\n",
              "      <th></th>\n",
              "      <th>UserID</th>\n",
              "      <th>basket_icon_click</th>\n",
              "      <th>basket_add_list</th>\n",
              "      <th>basket_add_detail</th>\n",
              "      <th>sort_by</th>\n",
              "      <th>image_picker</th>\n",
              "      <th>account_page_click</th>\n",
              "      <th>promo_banner_click</th>\n",
              "      <th>detail_wishlist_add</th>\n",
              "      <th>list_size_dropdown</th>\n",
              "      <th>closed_minibasket_click</th>\n",
              "      <th>checked_delivery_detail</th>\n",
              "      <th>checked_returns_detail</th>\n",
              "      <th>sign_in</th>\n",
              "      <th>saw_checkout</th>\n",
              "      <th>saw_sizecharts</th>\n",
              "      <th>saw_delivery</th>\n",
              "      <th>saw_account_upgrade</th>\n",
              "      <th>saw_homepage</th>\n",
              "      <th>device_mobile</th>\n",
              "      <th>device_computer</th>\n",
              "      <th>device_tablet</th>\n",
              "      <th>returning_user</th>\n",
              "      <th>loc_uk</th>\n",
              "      <th>ordered</th>\n",
              "    </tr>\n",
              "  </thead>\n",
              "  <tbody>\n",
              "    <tr>\n",
              "      <th>0</th>\n",
              "      <td>a720-6b732349-a720-4862-bd21-644732</td>\n",
              "      <td>0</td>\n",
              "      <td>0</td>\n",
              "      <td>0</td>\n",
              "      <td>0</td>\n",
              "      <td>0</td>\n",
              "      <td>0</td>\n",
              "      <td>0</td>\n",
              "      <td>0</td>\n",
              "      <td>0</td>\n",
              "      <td>0</td>\n",
              "      <td>1</td>\n",
              "      <td>0</td>\n",
              "      <td>0</td>\n",
              "      <td>0</td>\n",
              "      <td>0</td>\n",
              "      <td>0</td>\n",
              "      <td>0</td>\n",
              "      <td>0</td>\n",
              "      <td>1</td>\n",
              "      <td>0</td>\n",
              "      <td>0</td>\n",
              "      <td>0</td>\n",
              "      <td>1</td>\n",
              "      <td>0</td>\n",
              "    </tr>\n",
              "    <tr>\n",
              "      <th>1</th>\n",
              "      <td>a0c0-6b73247c-a0c0-4bd9-8baa-797356</td>\n",
              "      <td>0</td>\n",
              "      <td>0</td>\n",
              "      <td>0</td>\n",
              "      <td>0</td>\n",
              "      <td>0</td>\n",
              "      <td>0</td>\n",
              "      <td>0</td>\n",
              "      <td>0</td>\n",
              "      <td>0</td>\n",
              "      <td>0</td>\n",
              "      <td>0</td>\n",
              "      <td>0</td>\n",
              "      <td>0</td>\n",
              "      <td>0</td>\n",
              "      <td>0</td>\n",
              "      <td>0</td>\n",
              "      <td>0</td>\n",
              "      <td>0</td>\n",
              "      <td>1</td>\n",
              "      <td>0</td>\n",
              "      <td>0</td>\n",
              "      <td>0</td>\n",
              "      <td>1</td>\n",
              "      <td>0</td>\n",
              "    </tr>\n",
              "    <tr>\n",
              "      <th>2</th>\n",
              "      <td>86a8-6b735c67-86a8-407b-ba24-333055</td>\n",
              "      <td>0</td>\n",
              "      <td>0</td>\n",
              "      <td>0</td>\n",
              "      <td>0</td>\n",
              "      <td>0</td>\n",
              "      <td>0</td>\n",
              "      <td>0</td>\n",
              "      <td>0</td>\n",
              "      <td>0</td>\n",
              "      <td>0</td>\n",
              "      <td>0</td>\n",
              "      <td>0</td>\n",
              "      <td>0</td>\n",
              "      <td>0</td>\n",
              "      <td>0</td>\n",
              "      <td>0</td>\n",
              "      <td>0</td>\n",
              "      <td>0</td>\n",
              "      <td>1</td>\n",
              "      <td>0</td>\n",
              "      <td>0</td>\n",
              "      <td>1</td>\n",
              "      <td>1</td>\n",
              "      <td>0</td>\n",
              "    </tr>\n",
              "    <tr>\n",
              "      <th>3</th>\n",
              "      <td>6a3d-6b736346-6a3d-4085-934b-396834</td>\n",
              "      <td>0</td>\n",
              "      <td>0</td>\n",
              "      <td>0</td>\n",
              "      <td>0</td>\n",
              "      <td>0</td>\n",
              "      <td>0</td>\n",
              "      <td>0</td>\n",
              "      <td>0</td>\n",
              "      <td>0</td>\n",
              "      <td>0</td>\n",
              "      <td>0</td>\n",
              "      <td>0</td>\n",
              "      <td>0</td>\n",
              "      <td>0</td>\n",
              "      <td>0</td>\n",
              "      <td>0</td>\n",
              "      <td>0</td>\n",
              "      <td>0</td>\n",
              "      <td>1</td>\n",
              "      <td>0</td>\n",
              "      <td>0</td>\n",
              "      <td>1</td>\n",
              "      <td>1</td>\n",
              "      <td>0</td>\n",
              "    </tr>\n",
              "    <tr>\n",
              "      <th>4</th>\n",
              "      <td>b74a-6b737717-b74a-45c3-8c6a-421140</td>\n",
              "      <td>0</td>\n",
              "      <td>1</td>\n",
              "      <td>0</td>\n",
              "      <td>1</td>\n",
              "      <td>0</td>\n",
              "      <td>0</td>\n",
              "      <td>0</td>\n",
              "      <td>0</td>\n",
              "      <td>1</td>\n",
              "      <td>0</td>\n",
              "      <td>1</td>\n",
              "      <td>0</td>\n",
              "      <td>1</td>\n",
              "      <td>1</td>\n",
              "      <td>0</td>\n",
              "      <td>0</td>\n",
              "      <td>0</td>\n",
              "      <td>1</td>\n",
              "      <td>0</td>\n",
              "      <td>0</td>\n",
              "      <td>1</td>\n",
              "      <td>0</td>\n",
              "      <td>1</td>\n",
              "      <td>1</td>\n",
              "    </tr>\n",
              "  </tbody>\n",
              "</table>\n",
              "</div>"
            ],
            "text/plain": [
              "                                UserID  basket_icon_click  ...  loc_uk  ordered\n",
              "0  a720-6b732349-a720-4862-bd21-644732                  0  ...       1        0\n",
              "1  a0c0-6b73247c-a0c0-4bd9-8baa-797356                  0  ...       1        0\n",
              "2  86a8-6b735c67-86a8-407b-ba24-333055                  0  ...       1        0\n",
              "3  6a3d-6b736346-6a3d-4085-934b-396834                  0  ...       1        0\n",
              "4  b74a-6b737717-b74a-45c3-8c6a-421140                  0  ...       1        1\n",
              "\n",
              "[5 rows x 25 columns]"
            ]
          },
          "metadata": {},
          "execution_count": 19
        }
      ]
    },
    {
      "cell_type": "code",
      "metadata": {
        "colab": {
          "base_uri": "https://localhost:8080/",
          "height": 320
        },
        "id": "ef--8Db9VG5d",
        "outputId": "c55d6bff-31ee-4a63-d7f7-233b5ee4aac2"
      },
      "source": [
        "df.describe()"
      ],
      "execution_count": 20,
      "outputs": [
        {
          "output_type": "execute_result",
          "data": {
            "text/html": [
              "<div>\n",
              "<style scoped>\n",
              "    .dataframe tbody tr th:only-of-type {\n",
              "        vertical-align: middle;\n",
              "    }\n",
              "\n",
              "    .dataframe tbody tr th {\n",
              "        vertical-align: top;\n",
              "    }\n",
              "\n",
              "    .dataframe thead th {\n",
              "        text-align: right;\n",
              "    }\n",
              "</style>\n",
              "<table border=\"1\" class=\"dataframe\">\n",
              "  <thead>\n",
              "    <tr style=\"text-align: right;\">\n",
              "      <th></th>\n",
              "      <th>basket_icon_click</th>\n",
              "      <th>basket_add_list</th>\n",
              "      <th>basket_add_detail</th>\n",
              "      <th>sort_by</th>\n",
              "      <th>image_picker</th>\n",
              "      <th>account_page_click</th>\n",
              "      <th>promo_banner_click</th>\n",
              "      <th>detail_wishlist_add</th>\n",
              "      <th>list_size_dropdown</th>\n",
              "      <th>closed_minibasket_click</th>\n",
              "      <th>checked_delivery_detail</th>\n",
              "      <th>checked_returns_detail</th>\n",
              "      <th>sign_in</th>\n",
              "      <th>saw_checkout</th>\n",
              "      <th>saw_sizecharts</th>\n",
              "      <th>saw_delivery</th>\n",
              "      <th>saw_account_upgrade</th>\n",
              "      <th>saw_homepage</th>\n",
              "      <th>device_mobile</th>\n",
              "      <th>device_computer</th>\n",
              "      <th>device_tablet</th>\n",
              "      <th>returning_user</th>\n",
              "      <th>loc_uk</th>\n",
              "      <th>ordered</th>\n",
              "    </tr>\n",
              "  </thead>\n",
              "  <tbody>\n",
              "    <tr>\n",
              "      <th>count</th>\n",
              "      <td>455401.000000</td>\n",
              "      <td>455401.000000</td>\n",
              "      <td>455401.000000</td>\n",
              "      <td>455401.000000</td>\n",
              "      <td>455401.000000</td>\n",
              "      <td>455401.000000</td>\n",
              "      <td>455401.000000</td>\n",
              "      <td>455401.000000</td>\n",
              "      <td>455401.000000</td>\n",
              "      <td>455401.000000</td>\n",
              "      <td>455401.000000</td>\n",
              "      <td>455401.000000</td>\n",
              "      <td>455401.000000</td>\n",
              "      <td>455401.000000</td>\n",
              "      <td>455401.000000</td>\n",
              "      <td>455401.000000</td>\n",
              "      <td>455401.000000</td>\n",
              "      <td>455401.000000</td>\n",
              "      <td>455401.000000</td>\n",
              "      <td>455401.000000</td>\n",
              "      <td>455401.000000</td>\n",
              "      <td>455401.000000</td>\n",
              "      <td>455401.000000</td>\n",
              "      <td>455401.000000</td>\n",
              "    </tr>\n",
              "    <tr>\n",
              "      <th>mean</th>\n",
              "      <td>0.099150</td>\n",
              "      <td>0.074521</td>\n",
              "      <td>0.112916</td>\n",
              "      <td>0.036849</td>\n",
              "      <td>0.026735</td>\n",
              "      <td>0.003570</td>\n",
              "      <td>0.016208</td>\n",
              "      <td>0.003511</td>\n",
              "      <td>0.230362</td>\n",
              "      <td>0.017277</td>\n",
              "      <td>0.062874</td>\n",
              "      <td>0.009179</td>\n",
              "      <td>0.088810</td>\n",
              "      <td>0.080085</td>\n",
              "      <td>0.000389</td>\n",
              "      <td>0.005542</td>\n",
              "      <td>0.001096</td>\n",
              "      <td>0.290024</td>\n",
              "      <td>0.680706</td>\n",
              "      <td>0.194220</td>\n",
              "      <td>0.128364</td>\n",
              "      <td>0.534915</td>\n",
              "      <td>0.933224</td>\n",
              "      <td>0.041926</td>\n",
              "    </tr>\n",
              "    <tr>\n",
              "      <th>std</th>\n",
              "      <td>0.298864</td>\n",
              "      <td>0.262617</td>\n",
              "      <td>0.316490</td>\n",
              "      <td>0.188391</td>\n",
              "      <td>0.161307</td>\n",
              "      <td>0.059647</td>\n",
              "      <td>0.126274</td>\n",
              "      <td>0.059151</td>\n",
              "      <td>0.421065</td>\n",
              "      <td>0.130302</td>\n",
              "      <td>0.242737</td>\n",
              "      <td>0.095365</td>\n",
              "      <td>0.284469</td>\n",
              "      <td>0.271426</td>\n",
              "      <td>0.019711</td>\n",
              "      <td>0.074241</td>\n",
              "      <td>0.033084</td>\n",
              "      <td>0.453773</td>\n",
              "      <td>0.466204</td>\n",
              "      <td>0.395599</td>\n",
              "      <td>0.334495</td>\n",
              "      <td>0.498780</td>\n",
              "      <td>0.249634</td>\n",
              "      <td>0.200420</td>\n",
              "    </tr>\n",
              "    <tr>\n",
              "      <th>min</th>\n",
              "      <td>0.000000</td>\n",
              "      <td>0.000000</td>\n",
              "      <td>0.000000</td>\n",
              "      <td>0.000000</td>\n",
              "      <td>0.000000</td>\n",
              "      <td>0.000000</td>\n",
              "      <td>0.000000</td>\n",
              "      <td>0.000000</td>\n",
              "      <td>0.000000</td>\n",
              "      <td>0.000000</td>\n",
              "      <td>0.000000</td>\n",
              "      <td>0.000000</td>\n",
              "      <td>0.000000</td>\n",
              "      <td>0.000000</td>\n",
              "      <td>0.000000</td>\n",
              "      <td>0.000000</td>\n",
              "      <td>0.000000</td>\n",
              "      <td>0.000000</td>\n",
              "      <td>0.000000</td>\n",
              "      <td>0.000000</td>\n",
              "      <td>0.000000</td>\n",
              "      <td>0.000000</td>\n",
              "      <td>0.000000</td>\n",
              "      <td>0.000000</td>\n",
              "    </tr>\n",
              "    <tr>\n",
              "      <th>25%</th>\n",
              "      <td>0.000000</td>\n",
              "      <td>0.000000</td>\n",
              "      <td>0.000000</td>\n",
              "      <td>0.000000</td>\n",
              "      <td>0.000000</td>\n",
              "      <td>0.000000</td>\n",
              "      <td>0.000000</td>\n",
              "      <td>0.000000</td>\n",
              "      <td>0.000000</td>\n",
              "      <td>0.000000</td>\n",
              "      <td>0.000000</td>\n",
              "      <td>0.000000</td>\n",
              "      <td>0.000000</td>\n",
              "      <td>0.000000</td>\n",
              "      <td>0.000000</td>\n",
              "      <td>0.000000</td>\n",
              "      <td>0.000000</td>\n",
              "      <td>0.000000</td>\n",
              "      <td>0.000000</td>\n",
              "      <td>0.000000</td>\n",
              "      <td>0.000000</td>\n",
              "      <td>0.000000</td>\n",
              "      <td>1.000000</td>\n",
              "      <td>0.000000</td>\n",
              "    </tr>\n",
              "    <tr>\n",
              "      <th>50%</th>\n",
              "      <td>0.000000</td>\n",
              "      <td>0.000000</td>\n",
              "      <td>0.000000</td>\n",
              "      <td>0.000000</td>\n",
              "      <td>0.000000</td>\n",
              "      <td>0.000000</td>\n",
              "      <td>0.000000</td>\n",
              "      <td>0.000000</td>\n",
              "      <td>0.000000</td>\n",
              "      <td>0.000000</td>\n",
              "      <td>0.000000</td>\n",
              "      <td>0.000000</td>\n",
              "      <td>0.000000</td>\n",
              "      <td>0.000000</td>\n",
              "      <td>0.000000</td>\n",
              "      <td>0.000000</td>\n",
              "      <td>0.000000</td>\n",
              "      <td>0.000000</td>\n",
              "      <td>1.000000</td>\n",
              "      <td>0.000000</td>\n",
              "      <td>0.000000</td>\n",
              "      <td>1.000000</td>\n",
              "      <td>1.000000</td>\n",
              "      <td>0.000000</td>\n",
              "    </tr>\n",
              "    <tr>\n",
              "      <th>75%</th>\n",
              "      <td>0.000000</td>\n",
              "      <td>0.000000</td>\n",
              "      <td>0.000000</td>\n",
              "      <td>0.000000</td>\n",
              "      <td>0.000000</td>\n",
              "      <td>0.000000</td>\n",
              "      <td>0.000000</td>\n",
              "      <td>0.000000</td>\n",
              "      <td>0.000000</td>\n",
              "      <td>0.000000</td>\n",
              "      <td>0.000000</td>\n",
              "      <td>0.000000</td>\n",
              "      <td>0.000000</td>\n",
              "      <td>0.000000</td>\n",
              "      <td>0.000000</td>\n",
              "      <td>0.000000</td>\n",
              "      <td>0.000000</td>\n",
              "      <td>1.000000</td>\n",
              "      <td>1.000000</td>\n",
              "      <td>0.000000</td>\n",
              "      <td>0.000000</td>\n",
              "      <td>1.000000</td>\n",
              "      <td>1.000000</td>\n",
              "      <td>0.000000</td>\n",
              "    </tr>\n",
              "    <tr>\n",
              "      <th>max</th>\n",
              "      <td>1.000000</td>\n",
              "      <td>1.000000</td>\n",
              "      <td>1.000000</td>\n",
              "      <td>1.000000</td>\n",
              "      <td>1.000000</td>\n",
              "      <td>1.000000</td>\n",
              "      <td>1.000000</td>\n",
              "      <td>1.000000</td>\n",
              "      <td>1.000000</td>\n",
              "      <td>1.000000</td>\n",
              "      <td>1.000000</td>\n",
              "      <td>1.000000</td>\n",
              "      <td>1.000000</td>\n",
              "      <td>1.000000</td>\n",
              "      <td>1.000000</td>\n",
              "      <td>1.000000</td>\n",
              "      <td>1.000000</td>\n",
              "      <td>1.000000</td>\n",
              "      <td>1.000000</td>\n",
              "      <td>1.000000</td>\n",
              "      <td>1.000000</td>\n",
              "      <td>1.000000</td>\n",
              "      <td>1.000000</td>\n",
              "      <td>1.000000</td>\n",
              "    </tr>\n",
              "  </tbody>\n",
              "</table>\n",
              "</div>"
            ],
            "text/plain": [
              "       basket_icon_click  basket_add_list  ...         loc_uk        ordered\n",
              "count      455401.000000    455401.000000  ...  455401.000000  455401.000000\n",
              "mean            0.099150         0.074521  ...       0.933224       0.041926\n",
              "std             0.298864         0.262617  ...       0.249634       0.200420\n",
              "min             0.000000         0.000000  ...       0.000000       0.000000\n",
              "25%             0.000000         0.000000  ...       1.000000       0.000000\n",
              "50%             0.000000         0.000000  ...       1.000000       0.000000\n",
              "75%             0.000000         0.000000  ...       1.000000       0.000000\n",
              "max             1.000000         1.000000  ...       1.000000       1.000000\n",
              "\n",
              "[8 rows x 24 columns]"
            ]
          },
          "metadata": {},
          "execution_count": 20
        }
      ]
    },
    {
      "cell_type": "markdown",
      "metadata": {
        "id": "lJc5zCNVVSX4"
      },
      "source": [
        "Let us check for the datatype and if there any null in the dataset"
      ]
    },
    {
      "cell_type": "code",
      "metadata": {
        "colab": {
          "base_uri": "https://localhost:8080/"
        },
        "id": "PeNcZ-jQf1h8",
        "outputId": "8d3f75d8-4796-4a4c-f2cd-168c6cb11754"
      },
      "source": [
        "df.info()"
      ],
      "execution_count": 21,
      "outputs": [
        {
          "output_type": "stream",
          "name": "stdout",
          "text": [
            "<class 'pandas.core.frame.DataFrame'>\n",
            "RangeIndex: 455401 entries, 0 to 455400\n",
            "Data columns (total 25 columns):\n",
            " #   Column                   Non-Null Count   Dtype \n",
            "---  ------                   --------------   ----- \n",
            " 0   UserID                   455401 non-null  object\n",
            " 1   basket_icon_click        455401 non-null  int64 \n",
            " 2   basket_add_list          455401 non-null  int64 \n",
            " 3   basket_add_detail        455401 non-null  int64 \n",
            " 4   sort_by                  455401 non-null  int64 \n",
            " 5   image_picker             455401 non-null  int64 \n",
            " 6   account_page_click       455401 non-null  int64 \n",
            " 7   promo_banner_click       455401 non-null  int64 \n",
            " 8   detail_wishlist_add      455401 non-null  int64 \n",
            " 9   list_size_dropdown       455401 non-null  int64 \n",
            " 10  closed_minibasket_click  455401 non-null  int64 \n",
            " 11  checked_delivery_detail  455401 non-null  int64 \n",
            " 12  checked_returns_detail   455401 non-null  int64 \n",
            " 13  sign_in                  455401 non-null  int64 \n",
            " 14  saw_checkout             455401 non-null  int64 \n",
            " 15  saw_sizecharts           455401 non-null  int64 \n",
            " 16  saw_delivery             455401 non-null  int64 \n",
            " 17  saw_account_upgrade      455401 non-null  int64 \n",
            " 18  saw_homepage             455401 non-null  int64 \n",
            " 19  device_mobile            455401 non-null  int64 \n",
            " 20  device_computer          455401 non-null  int64 \n",
            " 21  device_tablet            455401 non-null  int64 \n",
            " 22  returning_user           455401 non-null  int64 \n",
            " 23  loc_uk                   455401 non-null  int64 \n",
            " 24  ordered                  455401 non-null  int64 \n",
            "dtypes: int64(24), object(1)\n",
            "memory usage: 86.9+ MB\n"
          ]
        }
      ]
    },
    {
      "cell_type": "code",
      "metadata": {
        "colab": {
          "base_uri": "https://localhost:8080/"
        },
        "id": "LjPBuZk090Oh",
        "outputId": "b2b123a6-7a2b-4e52-e5da-71dade78038d"
      },
      "source": [
        "df.nunique()"
      ],
      "execution_count": 22,
      "outputs": [
        {
          "output_type": "execute_result",
          "data": {
            "text/plain": [
              "UserID                     455401\n",
              "basket_icon_click               2\n",
              "basket_add_list                 2\n",
              "basket_add_detail               2\n",
              "sort_by                         2\n",
              "image_picker                    2\n",
              "account_page_click              2\n",
              "promo_banner_click              2\n",
              "detail_wishlist_add             2\n",
              "list_size_dropdown              2\n",
              "closed_minibasket_click         2\n",
              "checked_delivery_detail         2\n",
              "checked_returns_detail          2\n",
              "sign_in                         2\n",
              "saw_checkout                    2\n",
              "saw_sizecharts                  2\n",
              "saw_delivery                    2\n",
              "saw_account_upgrade             2\n",
              "saw_homepage                    2\n",
              "device_mobile                   2\n",
              "device_computer                 2\n",
              "device_tablet                   2\n",
              "returning_user                  2\n",
              "loc_uk                          2\n",
              "ordered                         2\n",
              "dtype: int64"
            ]
          },
          "metadata": {},
          "execution_count": 22
        }
      ]
    },
    {
      "cell_type": "code",
      "metadata": {
        "colab": {
          "base_uri": "https://localhost:8080/"
        },
        "id": "UmzdIF-y-M5a",
        "outputId": "f12f933d-5f19-442f-9715-385c9731c8e5"
      },
      "source": [
        "df.loc_uk.unique()"
      ],
      "execution_count": 23,
      "outputs": [
        {
          "output_type": "execute_result",
          "data": {
            "text/plain": [
              "array([1, 0])"
            ]
          },
          "metadata": {},
          "execution_count": 23
        }
      ]
    },
    {
      "cell_type": "code",
      "metadata": {
        "id": "nTTxAXXNP1Wx"
      },
      "source": [
        "import seaborn as sns"
      ],
      "execution_count": 24,
      "outputs": []
    },
    {
      "cell_type": "markdown",
      "metadata": {
        "id": "v3z8CVyZSV9P"
      },
      "source": [
        "Let us check for correlation among input variable and target variable"
      ]
    },
    {
      "cell_type": "code",
      "metadata": {
        "colab": {
          "base_uri": "https://localhost:8080/",
          "height": 940
        },
        "id": "EXPM7dnWP3yf",
        "outputId": "84fe6b9d-1303-4954-c366-8ad8e4778c7f"
      },
      "source": [
        "from matplotlib import pyplot as plt\n",
        "%matplotlib inline\n",
        "plt.figure(figsize=(14,14))\n",
        "sns.heatmap(df.corr(),cmap='Blues',annot=True)"
      ],
      "execution_count": 25,
      "outputs": [
        {
          "output_type": "execute_result",
          "data": {
            "text/plain": [
              "<matplotlib.axes._subplots.AxesSubplot at 0x7f4331244c90>"
            ]
          },
          "metadata": {},
          "execution_count": 25
        },
        {
          "output_type": "display_data",
          "data": {
            "image/png": "[encoded data removed]",
            "text/plain": [
              "<Figure size 1008x1008 with 2 Axes>"
            ]
          },
          "metadata": {
            "needs_background": "light"
          }
        }
      ]
    },
    {
      "cell_type": "markdown",
      "metadata": {
        "id": "UEEd6HWGLLt8"
      },
      "source": [
        "#Preprocessing"
      ]
    },
    {
      "cell_type": "markdown",
      "metadata": {
        "id": "8I5AEYTvLT7M"
      },
      "source": [
        "I am removing the user id column because it is not relevant here"
      ]
    },
    {
      "cell_type": "code",
      "metadata": {
        "id": "MNDKtNa9TUTG"
      },
      "source": [
        "df.drop('UserID', axis=1,inplace=True)"
      ],
      "execution_count": 26,
      "outputs": []
    },
    {
      "cell_type": "markdown",
      "metadata": {
        "id": "c_nOFisXULS4"
      },
      "source": [
        "Creating input(X) and target(y) column"
      ]
    },
    {
      "cell_type": "code",
      "metadata": {
        "id": "0w39K6y_T32C"
      },
      "source": [
        "X=df.drop('ordered',axis=1)\n",
        "y=df.ordered\n"
      ],
      "execution_count": 27,
      "outputs": []
    },
    {
      "cell_type": "markdown",
      "metadata": {
        "id": "4uNN78XtW5U1"
      },
      "source": [
        "let us see the number of order placed"
      ]
    },
    {
      "cell_type": "code",
      "metadata": {
        "id": "GXoBLF8BWgZL"
      },
      "source": [
        "from collections import Counter\n",
        "import numpy as np\n"
      ],
      "execution_count": 28,
      "outputs": []
    },
    {
      "cell_type": "code",
      "metadata": {
        "colab": {
          "base_uri": "https://localhost:8080/"
        },
        "id": "RFEwfCioXE86",
        "outputId": "de11b6d1-9ae5-444d-909f-30f2c69bd62e"
      },
      "source": [
        "Counter(y)"
      ],
      "execution_count": 29,
      "outputs": [
        {
          "output_type": "execute_result",
          "data": {
            "text/plain": [
              "Counter({0: 436308, 1: 19093})"
            ]
          },
          "metadata": {},
          "execution_count": 29
        }
      ]
    },
    {
      "cell_type": "code",
      "metadata": {
        "colab": {
          "base_uri": "https://localhost:8080/"
        },
        "id": "RigMrWdYXhCs",
        "outputId": "19f99de3-e727-429e-923a-b16d65872672"
      },
      "source": [
        "np.mean(y)*100"
      ],
      "execution_count": 30,
      "outputs": [
        {
          "output_type": "execute_result",
          "data": {
            "text/plain": [
              "4.1925687471042"
            ]
          },
          "metadata": {},
          "execution_count": 30
        }
      ]
    },
    {
      "cell_type": "markdown",
      "metadata": {
        "id": "LKj-fwWcX0mI"
      },
      "source": [
        "The result above shows that only about 4 percent of the collected data ordered.Let us balance the imbalance data using imblearn"
      ]
    },
    {
      "cell_type": "code",
      "metadata": {
        "colab": {
          "base_uri": "https://localhost:8080/"
        },
        "id": "P5HJxoQYZO58",
        "outputId": "7fca2421-6a15-48b1-9d4f-5a19af9c7041"
      },
      "source": [
        "pip install imbalanced-learn"
      ],
      "execution_count": 31,
      "outputs": [
        {
          "output_type": "stream",
          "name": "stdout",
          "text": [
            "Requirement already satisfied: imbalanced-learn in /usr/local/lib/python3.7/dist-packages (0.4.3)\n",
            "Requirement already satisfied: scipy>=0.13.3 in /usr/local/lib/python3.7/dist-packages (from imbalanced-learn) (1.4.1)\n",
            "Requirement already satisfied: numpy>=1.8.2 in /usr/local/lib/python3.7/dist-packages (from imbalanced-learn) (1.19.5)\n",
            "Requirement already satisfied: scikit-learn>=0.20 in /usr/local/lib/python3.7/dist-packages (from imbalanced-learn) (0.22.2.post1)\n",
            "Requirement already satisfied: joblib>=0.11 in /usr/local/lib/python3.7/dist-packages (from scikit-learn>=0.20->imbalanced-learn) (1.0.1)\n"
          ]
        }
      ]
    },
    {
      "cell_type": "code",
      "metadata": {
        "id": "f8EJHmUxZYHo",
        "colab": {
          "base_uri": "https://localhost:8080/"
        },
        "outputId": "e547b336-adae-43f4-ef26-2f60b2d7a106"
      },
      "source": [
        "from imblearn.under_sampling import RandomUnderSampler"
      ],
      "execution_count": 32,
      "outputs": [
        {
          "output_type": "stream",
          "name": "stderr",
          "text": [
            "/usr/local/lib/python3.7/dist-packages/sklearn/externals/six.py:31: FutureWarning: The module is deprecated in version 0.21 and will be removed in version 0.23 since we've dropped support for Python 2.7. Please rely on the official version of six (https://pypi.org/project/six/).\n",
            "  \"(https://pypi.org/project/six/).\", FutureWarning)\n",
            "/usr/local/lib/python3.7/dist-packages/sklearn/utils/deprecation.py:144: FutureWarning: The sklearn.neighbors.base module is  deprecated in version 0.22 and will be removed in version 0.24. The corresponding classes / functions should instead be imported from sklearn.neighbors. Anything that cannot be imported from sklearn.neighbors is now part of the private API.\n",
            "  warnings.warn(message, FutureWarning)\n"
          ]
        }
      ]
    },
    {
      "cell_type": "code",
      "metadata": {
        "id": "MsXQJn-SaVkS"
      },
      "source": [
        "under = RandomUnderSampler(random_state=42)"
      ],
      "execution_count": 33,
      "outputs": []
    },
    {
      "cell_type": "code",
      "metadata": {
        "colab": {
          "base_uri": "https://localhost:8080/"
        },
        "id": "M0gg01LPZ13z",
        "outputId": "08b09e8e-b294-4f5b-aca3-43cc9a9ce7fb"
      },
      "source": [
        "X_und, y_und = under.fit_resample(X, y)"
      ],
      "execution_count": 34,
      "outputs": [
        {
          "output_type": "stream",
          "name": "stderr",
          "text": [
            "/usr/local/lib/python3.7/dist-packages/sklearn/utils/deprecation.py:87: FutureWarning: Function safe_indexing is deprecated; safe_indexing is deprecated in version 0.22 and will be removed in version 0.24.\n",
            "  warnings.warn(msg, category=FutureWarning)\n"
          ]
        }
      ]
    },
    {
      "cell_type": "code",
      "metadata": {
        "colab": {
          "base_uri": "https://localhost:8080/"
        },
        "id": "mtoxnD8zahr1",
        "outputId": "5f27c178-6b27-498c-b997-f9203774e714"
      },
      "source": [
        "Counter(y_und )"
      ],
      "execution_count": 35,
      "outputs": [
        {
          "output_type": "execute_result",
          "data": {
            "text/plain": [
              "Counter({0: 19093, 1: 19093})"
            ]
          },
          "metadata": {},
          "execution_count": 35
        }
      ]
    },
    {
      "cell_type": "code",
      "metadata": {
        "colab": {
          "base_uri": "https://localhost:8080/"
        },
        "id": "ybXT6IV1bJkY",
        "outputId": "75a25b5f-aa5d-4bc7-dfff-25d2bc19175f"
      },
      "source": [
        "col = X.columns.tolist()\n",
        "col"
      ],
      "execution_count": 36,
      "outputs": [
        {
          "output_type": "execute_result",
          "data": {
            "text/plain": [
              "['basket_icon_click',\n",
              " 'basket_add_list',\n",
              " 'basket_add_detail',\n",
              " 'sort_by',\n",
              " 'image_picker',\n",
              " 'account_page_click',\n",
              " 'promo_banner_click',\n",
              " 'detail_wishlist_add',\n",
              " 'list_size_dropdown',\n",
              " 'closed_minibasket_click',\n",
              " 'checked_delivery_detail',\n",
              " 'checked_returns_detail',\n",
              " 'sign_in',\n",
              " 'saw_checkout',\n",
              " 'saw_sizecharts',\n",
              " 'saw_delivery',\n",
              " 'saw_account_upgrade',\n",
              " 'saw_homepage',\n",
              " 'device_mobile',\n",
              " 'device_computer',\n",
              " 'device_tablet',\n",
              " 'returning_user',\n",
              " 'loc_uk']"
            ]
          },
          "metadata": {},
          "execution_count": 36
        }
      ]
    },
    {
      "cell_type": "markdown",
      "metadata": {
        "id": "-xddgnEPawMO"
      },
      "source": [
        "Splitting the dataset into train,test and validation"
      ]
    },
    {
      "cell_type": "code",
      "metadata": {
        "id": "QXpqj2xGcGs_"
      },
      "source": [
        "from sklearn.model_selection import train_test_split"
      ],
      "execution_count": 37,
      "outputs": []
    },
    {
      "cell_type": "code",
      "metadata": {
        "id": "BJlnSpk-beg6"
      },
      "source": [
        "X_train_full, X_test, y_train_full, y_test = train_test_split(X_und, y_und , test_size=0.2, random_state=1)"
      ],
      "execution_count": 38,
      "outputs": []
    },
    {
      "cell_type": "code",
      "metadata": {
        "id": "sABjlKn0b3Fz"
      },
      "source": [
        "X_train, X_val, y_train, y_val = train_test_split(X_train_full, y_train_full, test_size=0.25, random_state=1)"
      ],
      "execution_count": 39,
      "outputs": []
    },
    {
      "cell_type": "markdown",
      "metadata": {
        "id": "U2ruuRmyfigL"
      },
      "source": [
        "#Model training and selection"
      ]
    },
    {
      "cell_type": "markdown",
      "metadata": {
        "id": "aJVHkzHiWD63"
      },
      "source": [
        "I am going to use GridsearchCv to tune model hyperparameters and select the best tuned model."
      ]
    },
    {
      "cell_type": "code",
      "metadata": {
        "id": "Lyx1yCdYmdds"
      },
      "source": [
        "from sklearn.tree import DecisionTreeClassifier\n",
        "from sklearn.linear_model import LogisticRegression\n",
        "from sklearn.ensemble import RandomForestClassifier\n",
        "import xgboost as xgb"
      ],
      "execution_count": 40,
      "outputs": []
    },
    {
      "cell_type": "code",
      "metadata": {
        "id": "bWxoydQamdnK"
      },
      "source": [
        "from sklearn.metrics import roc_auc_score\n",
        "from sklearn.metrics import confusion_matrix\n",
        "from sklearn.metrics import precision_score,recall_score"
      ],
      "execution_count": 41,
      "outputs": []
    },
    {
      "cell_type": "code",
      "metadata": {
        "id": "3KvqnWnZmdxA"
      },
      "source": [
        "from sklearn.model_selection import cross_val_score"
      ],
      "execution_count": 42,
      "outputs": []
    },
    {
      "cell_type": "code",
      "metadata": {
        "id": "ec9RTwOKtjsP"
      },
      "source": [
        "from sklearn.model_selection import GridSearchCV"
      ],
      "execution_count": 43,
      "outputs": []
    },
    {
      "cell_type": "markdown",
      "metadata": {
        "id": "X-hsLH_CgVqE"
      },
      "source": [
        "##Logistic regression"
      ]
    },
    {
      "cell_type": "code",
      "metadata": {
        "id": "Y52RpUcdt3AT"
      },
      "source": [
        "# define models and parameters\n",
        "model = LogisticRegression()\n",
        "solvers = ['newton-cg', 'lbfgs', 'liblinear','sag','saga']\n",
        "penalty =  ['none', 'l1', 'l2', 'elasticnet']\n",
        "random_state=[1]\n",
        "c_values = [100, 10, 1.0, 0.1, 0.01]\n",
        "grid = dict(solver=solvers,penalty=penalty, C=c_values,random_state = random_state)"
      ],
      "execution_count": 44,
      "outputs": []
    },
    {
      "cell_type": "code",
      "metadata": {
        "id": "jI89b2qlhl_-"
      },
      "source": [
        "grid_search = GridSearchCV(estimator=model, param_grid=grid, n_jobs=-1, cv=8, scoring='roc_auc')"
      ],
      "execution_count": 45,
      "outputs": []
    },
    {
      "cell_type": "code",
      "metadata": {
        "id": "h0elRLCf7rwW"
      },
      "source": [
        "from sklearn.metrics import SCORERS"
      ],
      "execution_count": 46,
      "outputs": []
    },
    {
      "cell_type": "code",
      "metadata": {
        "colab": {
          "base_uri": "https://localhost:8080/"
        },
        "id": "hqecjUKt8i1F",
        "outputId": "b12e1164-cc6e-4ca6-8b7b-e95da34d410b"
      },
      "source": [
        "grid_search.fit(X_train_full, y_train_full)"
      ],
      "execution_count": 47,
      "outputs": [
        {
          "output_type": "execute_result",
          "data": {
            "text/plain": [
              "GridSearchCV(cv=8, error_score=nan,\n",
              "             estimator=LogisticRegression(C=1.0, class_weight=None, dual=False,\n",
              "                                          fit_intercept=True,\n",
              "                                          intercept_scaling=1, l1_ratio=None,\n",
              "                                          max_iter=100, multi_class='auto',\n",
              "                                          n_jobs=None, penalty='l2',\n",
              "                                          random_state=None, solver='lbfgs',\n",
              "                                          tol=0.0001, verbose=0,\n",
              "                                          warm_start=False),\n",
              "             iid='deprecated', n_jobs=-1,\n",
              "             param_grid={'C': [100, 10, 1.0, 0.1, 0.01],\n",
              "                         'penalty': ['none', 'l1', 'l2', 'elasticnet'],\n",
              "                         'random_state': [1],\n",
              "                         'solver': ['newton-cg', 'lbfgs', 'liblinear', 'sag',\n",
              "                                    'saga']},\n",
              "             pre_dispatch='2*n_jobs', refit=True, return_train_score=False,\n",
              "             scoring='roc_auc', verbose=0)"
            ]
          },
          "metadata": {},
          "execution_count": 47
        }
      ]
    },
    {
      "cell_type": "code",
      "metadata": {
        "colab": {
          "base_uri": "https://localhost:8080/"
        },
        "id": "jxgPAghk_Aon",
        "outputId": "794ea9c7-69bc-448e-ffa3-1a79abe76632"
      },
      "source": [
        "grid_search.best_score_"
      ],
      "execution_count": 48,
      "outputs": [
        {
          "output_type": "execute_result",
          "data": {
            "text/plain": [
              "0.9970477748431774"
            ]
          },
          "metadata": {},
          "execution_count": 48
        }
      ]
    },
    {
      "cell_type": "code",
      "metadata": {
        "colab": {
          "base_uri": "https://localhost:8080/"
        },
        "id": "yjwLvVC2_Rap",
        "outputId": "b1ea4caf-0555-4878-ad07-c3f71cc9de42"
      },
      "source": [
        "grid_search.best_params_"
      ],
      "execution_count": 49,
      "outputs": [
        {
          "output_type": "execute_result",
          "data": {
            "text/plain": [
              "{'C': 1.0, 'penalty': 'l1', 'random_state': 1, 'solver': 'saga'}"
            ]
          },
          "metadata": {},
          "execution_count": 49
        }
      ]
    },
    {
      "cell_type": "code",
      "metadata": {
        "colab": {
          "base_uri": "https://localhost:8080/"
        },
        "id": "H2yuHOGW8Epv",
        "outputId": "d4a13cfd-9cf9-4a3c-e8f2-84f35122154a"
      },
      "source": [
        "SCORERS.keys()"
      ],
      "execution_count": 50,
      "outputs": [
        {
          "output_type": "execute_result",
          "data": {
            "text/plain": [
              "dict_keys(['explained_variance', 'r2', 'max_error', 'neg_median_absolute_error', 'neg_mean_absolute_error', 'neg_mean_squared_error', 'neg_mean_squared_log_error', 'neg_root_mean_squared_error', 'neg_mean_poisson_deviance', 'neg_mean_gamma_deviance', 'accuracy', 'roc_auc', 'roc_auc_ovr', 'roc_auc_ovo', 'roc_auc_ovr_weighted', 'roc_auc_ovo_weighted', 'balanced_accuracy', 'average_precision', 'neg_log_loss', 'neg_brier_score', 'adjusted_rand_score', 'homogeneity_score', 'completeness_score', 'v_measure_score', 'mutual_info_score', 'adjusted_mutual_info_score', 'normalized_mutual_info_score', 'fowlkes_mallows_score', 'precision', 'precision_macro', 'precision_micro', 'precision_samples', 'precision_weighted', 'recall', 'recall_macro', 'recall_micro', 'recall_samples', 'recall_weighted', 'f1', 'f1_macro', 'f1_micro', 'f1_samples', 'f1_weighted', 'jaccard', 'jaccard_macro', 'jaccard_micro', 'jaccard_samples', 'jaccard_weighted'])"
            ]
          },
          "metadata": {},
          "execution_count": 50
        }
      ]
    },
    {
      "cell_type": "markdown",
      "metadata": {
        "id": "e0qFbFQ-gdat"
      },
      "source": [
        "##Decision tree classifier"
      ]
    },
    {
      "cell_type": "code",
      "metadata": {
        "id": "TlRpt_QcB3xZ"
      },
      "source": [
        "# define models and parameters\n",
        "model = DecisionTreeClassifier()\n",
        "criterion=['gini', 'entropy']\n",
        "max_depth = [1,2,4,6,8,None]\n",
        "random_state=[1]\n",
        "min_samples_split = [2,4,6,8,10]\n",
        "grid = dict(criterion=criterion,max_depth=max_depth, min_samples_split=min_samples_split,random_state = random_state)"
      ],
      "execution_count": 51,
      "outputs": []
    },
    {
      "cell_type": "code",
      "metadata": {
        "id": "1sFalCLIIWvm"
      },
      "source": [
        "grid_search = GridSearchCV(estimator=model, param_grid=grid, n_jobs=-1, cv=8, scoring='roc_auc')"
      ],
      "execution_count": 52,
      "outputs": []
    },
    {
      "cell_type": "code",
      "metadata": {
        "colab": {
          "base_uri": "https://localhost:8080/"
        },
        "id": "d_xHpIybIjFA",
        "outputId": "d4ecc59b-9875-4ce2-b7da-c4b283701f05"
      },
      "source": [
        "grid_search.fit(X_train_full, y_train_full)"
      ],
      "execution_count": 53,
      "outputs": [
        {
          "output_type": "execute_result",
          "data": {
            "text/plain": [
              "GridSearchCV(cv=8, error_score=nan,\n",
              "             estimator=DecisionTreeClassifier(ccp_alpha=0.0, class_weight=None,\n",
              "                                              criterion='gini', max_depth=None,\n",
              "                                              max_features=None,\n",
              "                                              max_leaf_nodes=None,\n",
              "                                              min_impurity_decrease=0.0,\n",
              "                                              min_impurity_split=None,\n",
              "                                              min_samples_leaf=1,\n",
              "                                              min_samples_split=2,\n",
              "                                              min_weight_fraction_leaf=0.0,\n",
              "                                              presort='deprecated',\n",
              "                                              random_state=None,\n",
              "                                              splitter='best'),\n",
              "             iid='deprecated', n_jobs=-1,\n",
              "             param_grid={'criterion': ['gini', 'entropy'],\n",
              "                         'max_depth': [1, 2, 4, 6, 8, None],\n",
              "                         'min_samples_split': [2, 4, 6, 8, 10],\n",
              "                         'random_state': [1]},\n",
              "             pre_dispatch='2*n_jobs', refit=True, return_train_score=False,\n",
              "             scoring='roc_auc', verbose=0)"
            ]
          },
          "metadata": {},
          "execution_count": 53
        }
      ]
    },
    {
      "cell_type": "code",
      "metadata": {
        "colab": {
          "base_uri": "https://localhost:8080/"
        },
        "id": "c-X5gaGpIw0F",
        "outputId": "5babe1a7-1af3-4b85-bb96-f293168dd1ee"
      },
      "source": [
        "grid_search.best_score_"
      ],
      "execution_count": 54,
      "outputs": [
        {
          "output_type": "execute_result",
          "data": {
            "text/plain": [
              "0.9963794154734175"
            ]
          },
          "metadata": {},
          "execution_count": 54
        }
      ]
    },
    {
      "cell_type": "code",
      "metadata": {
        "colab": {
          "base_uri": "https://localhost:8080/"
        },
        "id": "JMkyOQQjIw_U",
        "outputId": "21e46252-8272-42f4-d86e-e46879f73d17"
      },
      "source": [
        "grid_search.best_params_"
      ],
      "execution_count": 55,
      "outputs": [
        {
          "output_type": "execute_result",
          "data": {
            "text/plain": [
              "{'criterion': 'gini',\n",
              " 'max_depth': 4,\n",
              " 'min_samples_split': 2,\n",
              " 'random_state': 1}"
            ]
          },
          "metadata": {},
          "execution_count": 55
        }
      ]
    },
    {
      "cell_type": "markdown",
      "metadata": {
        "id": "q6cMywSxgsBz"
      },
      "source": [
        "##Random forest classifier"
      ]
    },
    {
      "cell_type": "code",
      "metadata": {
        "id": "Fr4YtuIrLmUE"
      },
      "source": [
        "# define models and parameters\n",
        "model = RandomForestClassifier()\n",
        "max_features = ['sqrt', 'log2']\n",
        "n_estimators = [10, 100, 1000]\n",
        "random_state=[1]\n",
        "grid = dict(max_features=max_features,n_estimators=n_estimators,random_state = random_state)"
      ],
      "execution_count": 56,
      "outputs": []
    },
    {
      "cell_type": "code",
      "metadata": {
        "id": "hftzXo3xN7FW"
      },
      "source": [
        "grid_search = GridSearchCV(estimator=model, param_grid=grid, n_jobs=-1, cv=8, scoring='roc_auc')"
      ],
      "execution_count": 57,
      "outputs": []
    },
    {
      "cell_type": "code",
      "metadata": {
        "colab": {
          "base_uri": "https://localhost:8080/"
        },
        "id": "34RhD_dvOGJr",
        "outputId": "04cd39fd-a0df-4612-9dab-7e72ea7a5fca"
      },
      "source": [
        "grid_search.fit(X_train_full, y_train_full)"
      ],
      "execution_count": 58,
      "outputs": [
        {
          "output_type": "execute_result",
          "data": {
            "text/plain": [
              "GridSearchCV(cv=8, error_score=nan,\n",
              "             estimator=RandomForestClassifier(bootstrap=True, ccp_alpha=0.0,\n",
              "                                              class_weight=None,\n",
              "                                              criterion='gini', max_depth=None,\n",
              "                                              max_features='auto',\n",
              "                                              max_leaf_nodes=None,\n",
              "                                              max_samples=None,\n",
              "                                              min_impurity_decrease=0.0,\n",
              "                                              min_impurity_split=None,\n",
              "                                              min_samples_leaf=1,\n",
              "                                              min_samples_split=2,\n",
              "                                              min_weight_fraction_leaf=0.0,\n",
              "                                              n_estimators=100, n_jobs=None,\n",
              "                                              oob_score=False,\n",
              "                                              random_state=None, verbose=0,\n",
              "                                              warm_start=False),\n",
              "             iid='deprecated', n_jobs=-1,\n",
              "             param_grid={'max_features': ['sqrt', 'log2'],\n",
              "                         'n_estimators': [10, 100, 1000], 'random_state': [1]},\n",
              "             pre_dispatch='2*n_jobs', refit=True, return_train_score=False,\n",
              "             scoring='roc_auc', verbose=0)"
            ]
          },
          "metadata": {},
          "execution_count": 58
        }
      ]
    },
    {
      "cell_type": "code",
      "metadata": {
        "colab": {
          "base_uri": "https://localhost:8080/"
        },
        "id": "4pufjKLmORya",
        "outputId": "54f6cbd6-79b4-4725-cb9a-6a88202ae68c"
      },
      "source": [
        "grid_search.best_score_"
      ],
      "execution_count": 59,
      "outputs": [
        {
          "output_type": "execute_result",
          "data": {
            "text/plain": [
              "0.995941685101164"
            ]
          },
          "metadata": {},
          "execution_count": 59
        }
      ]
    },
    {
      "cell_type": "code",
      "metadata": {
        "colab": {
          "base_uri": "https://localhost:8080/"
        },
        "id": "NVvAOM-NOgEU",
        "outputId": "66b66997-05d0-4596-a460-87a8b756c824"
      },
      "source": [
        "grid_search.best_params_"
      ],
      "execution_count": 60,
      "outputs": [
        {
          "output_type": "execute_result",
          "data": {
            "text/plain": [
              "{'max_features': 'sqrt', 'n_estimators': 1000, 'random_state': 1}"
            ]
          },
          "metadata": {},
          "execution_count": 60
        }
      ]
    },
    {
      "cell_type": "markdown",
      "metadata": {
        "id": "K5bgnM4wg5Fe"
      },
      "source": [
        "##Xgboost"
      ]
    },
    {
      "cell_type": "code",
      "metadata": {
        "id": "bYx4-aMjSUjb"
      },
      "source": [
        "dtrain = xgb.DMatrix(X_train, label=y_train)\n",
        "dval = xgb.DMatrix(X_val, label=y_val)"
      ],
      "execution_count": 61,
      "outputs": []
    },
    {
      "cell_type": "code",
      "metadata": {
        "id": "L2uuS5QcSV75"
      },
      "source": [
        "xgb_params = {\n",
        "    'eta': 0.3,\n",
        "    'max_depth': 6,\n",
        "    'min_child_weight': 1,\n",
        "\n",
        "    'objective': 'binary:logistic',\n",
        "    'eval_metric': 'auc',\n",
        "    'nthread': 8,\n",
        "    'seed': 1\n",
        "}"
      ],
      "execution_count": 62,
      "outputs": []
    },
    {
      "cell_type": "code",
      "metadata": {
        "id": "WqNCrM2fSe09"
      },
      "source": [
        "model = xgb.train(xgb_params, dtrain, num_boost_round=10)\n"
      ],
      "execution_count": 63,
      "outputs": []
    },
    {
      "cell_type": "code",
      "metadata": {
        "id": "Uyz-VLdpWdRH"
      },
      "source": [
        "watchlist = [(dtrain, 'train'), (dval, 'val')]"
      ],
      "execution_count": 64,
      "outputs": []
    },
    {
      "cell_type": "code",
      "metadata": {
        "colab": {
          "base_uri": "https://localhost:8080/"
        },
        "id": "ssfuqU3WWOHo",
        "outputId": "6fd92b94-0073-47bb-f49e-06dcad10478c"
      },
      "source": [
        "model = xgb.train(xgb_params, dtrain,\n",
        "                  num_boost_round=100,\n",
        "                  evals=watchlist, verbose_eval=10)"
      ],
      "execution_count": 65,
      "outputs": [
        {
          "output_type": "stream",
          "name": "stdout",
          "text": [
            "[0]\ttrain-auc:0.996029\tval-auc:0.995403\n",
            "[10]\ttrain-auc:0.997659\tval-auc:0.996103\n",
            "[20]\ttrain-auc:0.998114\tval-auc:0.996268\n",
            "[30]\ttrain-auc:0.998258\tval-auc:0.995882\n",
            "[40]\ttrain-auc:0.998369\tval-auc:0.995648\n",
            "[50]\ttrain-auc:0.998512\tval-auc:0.99523\n",
            "[60]\ttrain-auc:0.998627\tval-auc:0.995239\n",
            "[70]\ttrain-auc:0.998656\tval-auc:0.99527\n",
            "[80]\ttrain-auc:0.998708\tval-auc:0.995188\n",
            "[90]\ttrain-auc:0.99876\tval-auc:0.995122\n",
            "[99]\ttrain-auc:0.998785\tval-auc:0.99511\n"
          ]
        }
      ]
    },
    {
      "cell_type": "markdown",
      "metadata": {
        "id": "1VCdih9WhNm9"
      },
      "source": [
        "##Model selection"
      ]
    },
    {
      "cell_type": "markdown",
      "metadata": {
        "id": "6nDgw3UUZY3O"
      },
      "source": [
        "The best model from above is linear regression"
      ]
    },
    {
      "cell_type": "code",
      "metadata": {
        "id": "_09nt-E3ZUni"
      },
      "source": [
        "fi_model= LogisticRegression(C= 1.0, penalty= 'l1', random_state = 1, solver = 'saga')"
      ],
      "execution_count": 66,
      "outputs": []
    },
    {
      "cell_type": "code",
      "metadata": {
        "id": "76pTn4abhVqE",
        "colab": {
          "base_uri": "https://localhost:8080/"
        },
        "outputId": "67537199-c136-4f8f-9fa5-fbe6d2f44196"
      },
      "source": [
        "fi_model.fit(X_train_full, y_train_full)"
      ],
      "execution_count": 67,
      "outputs": [
        {
          "output_type": "execute_result",
          "data": {
            "text/plain": [
              "LogisticRegression(C=1.0, class_weight=None, dual=False, fit_intercept=True,\n",
              "                   intercept_scaling=1, l1_ratio=None, max_iter=100,\n",
              "                   multi_class='auto', n_jobs=None, penalty='l1',\n",
              "                   random_state=1, solver='saga', tol=0.0001, verbose=0,\n",
              "                   warm_start=False)"
            ]
          },
          "metadata": {},
          "execution_count": 67
        }
      ]
    },
    {
      "cell_type": "markdown",
      "metadata": {
        "id": "Ad9bjQRsDdpL"
      },
      "source": [
        ""
      ]
    },
    {
      "cell_type": "code",
      "metadata": {
        "id": "sUtVrgDiPPg6"
      },
      "source": [
        "test_pred = fi_model.predict(X_test)"
      ],
      "execution_count": 68,
      "outputs": []
    },
    {
      "cell_type": "code",
      "metadata": {
        "id": "7FHPBTSgQfIZ"
      },
      "source": [
        "accur = confusion_matrix(y_test,test_pred)"
      ],
      "execution_count": 69,
      "outputs": []
    },
    {
      "cell_type": "code",
      "metadata": {
        "colab": {
          "base_uri": "https://localhost:8080/"
        },
        "id": "jTQVhwsLREe4",
        "outputId": "07b036a2-af48-48ef-ac8e-cc0fef732403"
      },
      "source": [
        "accur"
      ],
      "execution_count": 70,
      "outputs": [
        {
          "output_type": "execute_result",
          "data": {
            "text/plain": [
              "array([[3810,   29],\n",
              "       [  33, 3766]])"
            ]
          },
          "metadata": {},
          "execution_count": 70
        }
      ]
    },
    {
      "cell_type": "code",
      "metadata": {
        "id": "KIZN_Rg9RU4R"
      },
      "source": [
        "def predict(df, model):\n",
        "    cat = pd.DataFrame([df])\n",
        "    \n",
        "    X = cat[col].values\n",
        "\n",
        "    y_pred = model.predict_proba(X)[:, 1]\n",
        "\n",
        "    return y_pred"
      ],
      "execution_count": 83,
      "outputs": []
    },
    {
      "cell_type": "code",
      "metadata": {
        "id": "Ubm5o4R9RxkF"
      },
      "source": [
        "customer = {'UserID':'a0c0-6b73247c-a0c0-4bd9-8baa-797356',\n",
        " 'basket_icon_click':0,\n",
        " 'basket_add_list':0,\n",
        " 'basket_add_detail':1,\n",
        " 'sort_by':0,\n",
        " 'image_picker':0,\n",
        " 'account_page_click':0,\n",
        " 'promo_banner_click':1,\n",
        " 'detail_wishlist_add':0,\n",
        " 'list_size_dropdown':1,\n",
        " 'closed_minibasket_click':0,\n",
        " 'checked_delivery_detail':1,\n",
        " 'checked_returns_detail':0,\n",
        " 'sign_in':0,\n",
        " 'saw_checkout':0,\n",
        " 'saw_sizecharts':0,\n",
        " 'saw_delivery':0,\n",
        " 'saw_account_upgrade':0,\n",
        " 'saw_homepage':0,\n",
        " 'device_mobile':0,\n",
        " 'device_computer':0,\n",
        " 'device_tablet':0,\n",
        " 'returning_user':1,\n",
        " 'loc_uk':1}"
      ],
      "execution_count": 84,
      "outputs": []
    },
    {
      "cell_type": "code",
      "metadata": {
        "colab": {
          "base_uri": "https://localhost:8080/"
        },
        "id": "GbWHWKfDFtqB",
        "outputId": "997a4ae6-97a9-4c7f-fd78-25e645fbd7a8"
      },
      "source": [
        "predict(customer, fi_model)"
      ],
      "execution_count": 85,
      "outputs": [
        {
          "output_type": "execute_result",
          "data": {
            "text/plain": [
              "array([0.01166208])"
            ]
          },
          "metadata": {},
          "execution_count": 85
        }
      ]
    },
    {
      "cell_type": "code",
      "metadata": {
        "id": "GuY85tMQaRmw"
      },
      "source": [
        "import pickle"
      ],
      "execution_count": 86,
      "outputs": []
    },
    {
      "cell_type": "code",
      "metadata": {
        "colab": {
          "base_uri": "https://localhost:8080/",
          "height": 35
        },
        "id": "nqiMO_xyakNf",
        "outputId": "c8364a2e-57b9-4a49-9cd5-8c91d7854528"
      },
      "source": [
        "output_file = 'model_logistic.bin'\n",
        "output_file"
      ],
      "execution_count": 87,
      "outputs": [
        {
          "output_type": "execute_result",
          "data": {
            "application/vnd.google.colaboratory.intrinsic+json": {
              "type": "string"
            },
            "text/plain": [
              "'model_logistic.bin'"
            ]
          },
          "metadata": {},
          "execution_count": 87
        }
      ]
    },
    {
      "cell_type": "code",
      "metadata": {
        "id": "zoJCbACzeHax"
      },
      "source": [
        "with open(output_file,'wb') as f_out:\n",
        "  pickle.dump(fi_model,f_out)"
      ],
      "execution_count": 88,
      "outputs": []
    },
    {
      "cell_type": "markdown",
      "metadata": {
        "id": "VmXHy_mVJB99"
      },
      "source": [
        "Load the model"
      ]
    },
    {
      "cell_type": "code",
      "metadata": {
        "id": "PGNGmyrkMK_X"
      },
      "source": [
        "col=['basket_icon_click',\n",
        " 'basket_add_list',\n",
        " 'basket_add_detail',\n",
        " 'sort_by',\n",
        " 'image_picker',\n",
        " 'account_page_click',\n",
        " 'promo_banner_click',\n",
        " 'detail_wishlist_add',\n",
        " 'list_size_dropdown',\n",
        " 'closed_minibasket_click',\n",
        " 'checked_delivery_detail',\n",
        " 'checked_returns_detail',\n",
        " 'sign_in',\n",
        " 'saw_checkout',\n",
        " 'saw_sizecharts',\n",
        " 'saw_delivery',\n",
        " 'saw_account_upgrade',\n",
        " 'saw_homepage',\n",
        " 'device_mobile',\n",
        " 'device_computer',\n",
        " 'device_tablet',\n",
        " 'returning_user',\n",
        " 'loc_uk']"
      ],
      "execution_count": null,
      "outputs": []
    },
    {
      "cell_type": "code",
      "metadata": {
        "id": "jOX3ZUkSLYOG"
      },
      "source": [
        "def predict(df, model):\n",
        "    cat = pd.DataFrame([df])\n",
        "    \n",
        "    X = cat[col].values\n",
        "\n",
        "    y_pred = model.predict_proba(X)[:, 1]\n",
        "\n",
        "    return y_pred"
      ],
      "execution_count": 89,
      "outputs": []
    },
    {
      "cell_type": "code",
      "metadata": {
        "id": "yybZsq89KW8T"
      },
      "source": [
        "input_file = 'model_logistic.bin'"
      ],
      "execution_count": 90,
      "outputs": []
    },
    {
      "cell_type": "code",
      "metadata": {
        "id": "n8Uqnac-JCWv"
      },
      "source": [
        "import pickle"
      ],
      "execution_count": null,
      "outputs": []
    },
    {
      "cell_type": "code",
      "metadata": {
        "id": "hBpgd47EJ0dd"
      },
      "source": [
        "with open(input_file,'rb') as f_in:\n",
        "  model = pickle.load(f_in)"
      ],
      "execution_count": 91,
      "outputs": []
    },
    {
      "cell_type": "code",
      "metadata": {
        "colab": {
          "base_uri": "https://localhost:8080/"
        },
        "id": "jJZqSJp4Ll-L",
        "outputId": "3d69bd8b-f807-43d3-f9c2-86137e522179"
      },
      "source": [
        "model"
      ],
      "execution_count": 92,
      "outputs": [
        {
          "output_type": "execute_result",
          "data": {
            "text/plain": [
              "LogisticRegression(C=1.0, class_weight=None, dual=False, fit_intercept=True,\n",
              "                   intercept_scaling=1, l1_ratio=None, max_iter=100,\n",
              "                   multi_class='auto', n_jobs=None, penalty='l1',\n",
              "                   random_state=1, solver='saga', tol=0.0001, verbose=0,\n",
              "                   warm_start=False)"
            ]
          },
          "metadata": {},
          "execution_count": 92
        }
      ]
    }
  ]
}